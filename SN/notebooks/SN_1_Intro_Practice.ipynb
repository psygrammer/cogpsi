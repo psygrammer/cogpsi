{
 "cells": [
  {
   "cell_type": "markdown",
   "metadata": {
    "colab_type": "text",
    "deletable": true,
    "editable": true,
    "id": "view-in-github"
   },
   "source": [
    "<a href=\"https://colab.research.google.com/github/psygrammer/cogpsi/blob/master/2019_01_22_SN.ipynb\" target=\"_parent\"><img src=\"https://colab.research.google.com/assets/colab-badge.svg\" alt=\"Open In Colab\"/></a>"
   ]
  },
  {
   "cell_type": "markdown",
   "metadata": {},
   "source": [
    "## CogPsi\n",
    "## Applied SNA \n",
    "### YK LEE\n",
    "### 2019.1.22 (T)\n",
    "### Introduction. 실습 1 "
   ]
  },
  {
   "cell_type": "code",
   "execution_count": null,
   "metadata": {
    "colab": {},
    "colab_type": "code",
    "collapsed": true,
    "deletable": true,
    "editable": true,
    "id": "eqNhsl6osKgF"
   },
   "outputs": [],
   "source": [
    "import networkx as nx\n",
    "import numpy as np\n",
    "import pandas as pd\n",
    "%matplotlib notebook\n"
   ]
  },
  {
   "cell_type": "code",
   "execution_count": null,
   "metadata": {
    "colab": {},
    "colab_type": "code",
    "collapsed": true,
    "deletable": true,
    "editable": true,
    "id": "5TmCv7xBq0wl"
   },
   "outputs": [],
   "source": [
    "#draw graph by adding nodes and edges\n",
    "G = nx.Graph()\n",
    "G.add_edge('A','B')\n",
    "G.add_edge('B','C')"
   ]
  },
  {
   "cell_type": "code",
   "execution_count": null,
   "metadata": {
    "colab": {},
    "colab_type": "code",
    "collapsed": true,
    "deletable": true,
    "editable": true,
    "id": "1aow8bfCpkiY"
   },
   "outputs": [],
   "source": [
    "#Weighted Networks\n",
    "G = nx.Graph()\n",
    "G.add_edge('A','B',weight = 6)"
   ]
  },
  {
   "cell_type": "code",
   "execution_count": null,
   "metadata": {
    "colab": {},
    "colab_type": "code",
    "collapsed": true,
    "deletable": true,
    "editable": true,
    "id": "8qMkmbRfqPlW"
   },
   "outputs": [],
   "source": [
    "#Signed network \n",
    "G = nx.Graph()\n",
    "G.add_edge('A','B',sign = '+')\n",
    "G.add_edge('B','C',sign='-')"
   ]
  },
  {
   "cell_type": "code",
   "execution_count": null,
   "metadata": {
    "colab": {},
    "colab_type": "code",
    "collapsed": true,
    "deletable": true,
    "editable": true,
    "id": "-0P_YHfBqnM1"
   },
   "outputs": [],
   "source": [
    "#other labels or attributes\n",
    "G = nx.Graph()\n",
    "G.add_edge('A','B',relation='friend')\n",
    "G.add_edge('B','C',relation='coworker')\n",
    "G.add_edge('D','E',relation='family')\n",
    "G.add_edge('E','I', relation='neighbor')"
   ]
  },
  {
   "cell_type": "code",
   "execution_count": null,
   "metadata": {
    "colab": {},
    "colab_type": "code",
    "collapsed": true,
    "deletable": true,
    "editable": true,
    "id": "F4Pzm5RAqqEC"
   },
   "outputs": [],
   "source": [
    "#Multigraph\n",
    "G = nx.MultiGraph()\n",
    "G.add_edge('A','B', relation='friend')"
   ]
  },
  {
   "cell_type": "markdown",
   "metadata": {},
   "source": [
    "## 실습 \n",
    "1. edge 추가하기\n",
    "2. weight 넣기\n",
    "2. sign 넣기 "
   ]
  },
  {
   "cell_type": "code",
   "execution_count": null,
   "metadata": {
    "colab": {
     "base_uri": "https://localhost:8080/",
     "height": 71
    },
    "colab_type": "code",
    "collapsed": false,
    "deletable": true,
    "editable": true,
    "id": "_0_MqJtPslRW",
    "outputId": "3d8b47db-7e92-445b-946b-84b53d6fda90"
   },
   "outputs": [],
   "source": [
    "#Instantiate the graph\n",
    "G = nx.Graph()\n",
    "#add node/edge pairs\n",
    "G.add_edge('A','B')\n",
    "G.add_edge('B','C')\n",
    "#draw the network G\n",
    "nx.draw(G)"
   ]
  },
  {
   "cell_type": "code",
   "execution_count": null,
   "metadata": {
    "colab": {},
    "colab_type": "code",
    "collapsed": true,
    "deletable": true,
    "editable": true,
    "id": "-VkiiwikttgU"
   },
   "outputs": [],
   "source": []
  }
 ],
 "metadata": {
  "colab": {
   "include_colab_link": true,
   "name": "2019.01.22.SN.ipynb",
   "provenance": [],
   "version": "0.3.2"
  },
  "kernelspec": {
   "display_name": "Python 3",
   "language": "python",
   "name": "python3"
  },
  "language_info": {
   "codemirror_mode": {
    "name": "ipython",
    "version": 3
   },
   "file_extension": ".py",
   "mimetype": "text/x-python",
   "name": "python",
   "nbconvert_exporter": "python",
   "pygments_lexer": "ipython3",
   "version": "3.5.2"
  }
 },
 "nbformat": 4,
 "nbformat_minor": 0
}
