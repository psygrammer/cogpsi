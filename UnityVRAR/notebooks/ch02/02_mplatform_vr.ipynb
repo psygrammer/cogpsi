{
  "nbformat": 4,
  "nbformat_minor": 0,
  "metadata": {
    "colab": {
      "name": "02_mplatform_vr.ipynb",
      "provenance": [],
      "include_colab_link": true
    },
    "kernelspec": {
      "name": "python3",
      "display_name": "Python 3"
    }
  },
  "cells": [
    {
      "cell_type": "markdown",
      "metadata": {
        "id": "view-in-github",
        "colab_type": "text"
      },
      "source": [
        "<a href=\"https://colab.research.google.com/github/psygrammer/cogpsi/blob/master/UnityVRAR/notebooks/ch02/02_mplatform_vr.ipynb\" target=\"_parent\"><img src=\"https://colab.research.google.com/assets/colab-badge.svg\" alt=\"Open In Colab\"/></a>"
      ]
    },
    {
      "cell_type": "markdown",
      "metadata": {
        "id": "RPgnlviheyde",
        "colab_type": "text"
      },
      "source": [
        "# Part 02. 모바일 플랫폼 VR 구현"
      ]
    }
  ]
}