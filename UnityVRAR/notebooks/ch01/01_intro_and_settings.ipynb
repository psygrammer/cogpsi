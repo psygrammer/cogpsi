{
  "nbformat": 4,
  "nbformat_minor": 0,
  "metadata": {
    "colab": {
      "name": "01_into_and_settings.ipynb",
      "provenance": [],
      "collapsed_sections": [],
      "include_colab_link": true
    },
    "kernelspec": {
      "name": "python3",
      "display_name": "Python 3"
    }
  },
  "cells": [
    {
      "cell_type": "markdown",
      "metadata": {
        "id": "view-in-github",
        "colab_type": "text"
      },
      "source": [
        "<a href=\"https://colab.research.google.com/github/psygrammer/cogpsi/blob/master/UnityVRAR/notebooks/ch01/01_intro_and_settings.ipynb\" target=\"_parent\"><img src=\"https://colab.research.google.com/assets/colab-badge.svg\" alt=\"Open In Colab\"/></a>"
      ]
    },
    {
      "cell_type": "markdown",
      "metadata": {
        "id": "46ZVzGEE7yQU",
        "colab_type": "text"
      },
      "source": [
        "https://store.unity.com/"
      ]
    },
    {
      "cell_type": "markdown",
      "metadata": {
        "id": "Tkwoozlo7z7B",
        "colab_type": "text"
      },
      "source": [
        "https://github.com/IndieGameMaker/VR2019.git"
      ]
    }
  ]
}