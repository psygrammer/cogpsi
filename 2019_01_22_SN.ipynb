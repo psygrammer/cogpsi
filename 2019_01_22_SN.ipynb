{
  "nbformat": 4,
  "nbformat_minor": 0,
  "metadata": {
    "colab": {
      "name": "2019.01.22.SN.ipynb",
      "version": "0.3.2",
      "provenance": [],
      "include_colab_link": true
    },
    "kernelspec": {
      "name": "python3",
      "display_name": "Python 3"
    }
  },
  "cells": [
    {
      "cell_type": "markdown",
      "metadata": {
        "id": "view-in-github",
        "colab_type": "text"
      },
      "source": [
        "<a href=\"https://colab.research.google.com/github/psygrammer/cogpsi/blob/master/2019_01_22_SN.ipynb\" target=\"_parent\"><img src=\"https://colab.research.google.com/assets/colab-badge.svg\" alt=\"Open In Colab\"/></a>"
      ]
    },
    {
      "metadata": {
        "id": "Kojxr5sZphFq",
        "colab_type": "code",
        "colab": {}
      },
      "cell_type": "code",
      "source": [
        "import networkx as nx"
      ],
      "execution_count": 0,
      "outputs": []
    },
    {
      "metadata": {
        "id": "5TmCv7xBq0wl",
        "colab_type": "code",
        "colab": {}
      },
      "cell_type": "code",
      "source": [
        "#draw graph by adding nodes and edges\n",
        "\n",
        "G = nx.Graph()\n",
        "G.add_edge('A','B')\n",
        "G.add_edge('B','C')"
      ],
      "execution_count": 0,
      "outputs": []
    },
    {
      "metadata": {
        "id": "1aow8bfCpkiY",
        "colab_type": "code",
        "colab": {}
      },
      "cell_type": "code",
      "source": [
        "#Weighted Networks\n",
        "\n",
        "G = nx.Graph()\n",
        "G.add_edge('A','B',weight = 6)"
      ],
      "execution_count": 0,
      "outputs": []
    },
    {
      "metadata": {
        "id": "8qMkmbRfqPlW",
        "colab_type": "code",
        "colab": {}
      },
      "cell_type": "code",
      "source": [
        "#Signed network \n",
        "G = nx.Graph()\n",
        "G.add_edge('A','B',sign = '+')\n",
        "G.add_edge('B','C',sign='-')"
      ],
      "execution_count": 0,
      "outputs": []
    },
    {
      "metadata": {
        "id": "-0P_YHfBqnM1",
        "colab_type": "code",
        "colab": {}
      },
      "cell_type": "code",
      "source": [
        "#other labels or attributes\n",
        "G = nx.Graph()\n",
        "G.add_edge('A','B',relation='friend')\n",
        "G.add_edge('B','C',relation='coworker')\n",
        "G.add_edge('D','E',relation='family')\n",
        "G.add_edge('E','I', relation='neighbor')"
      ],
      "execution_count": 0,
      "outputs": []
    },
    {
      "metadata": {
        "id": "F4Pzm5RAqqEC",
        "colab_type": "code",
        "colab": {}
      },
      "cell_type": "code",
      "source": [
        "#Multigraph\n",
        "G = nx.MultiGraph()\n",
        "G.add_edge('A','B', relation='friend')\n"
      ],
      "execution_count": 0,
      "outputs": []
    },
    {
      "metadata": {
        "id": "eqNhsl6osKgF",
        "colab_type": "code",
        "colab": {}
      },
      "cell_type": "code",
      "source": [
        "import networkx as nx\n",
        "import numpy as np\n",
        "import pandas as pd\n",
        "%matplotlib notebook\n"
      ],
      "execution_count": 0,
      "outputs": []
    },
    {
      "metadata": {
        "id": "_0_MqJtPslRW",
        "colab_type": "code",
        "colab": {
          "base_uri": "https://localhost:8080/",
          "height": 71
        },
        "outputId": "3d8b47db-7e92-445b-946b-84b53d6fda90"
      },
      "cell_type": "code",
      "source": [
        "#Instantiate the graph\n",
        "G = nx.Graph()\n",
        "#add node/edge pairs\n",
        "G.add_edge('A','B')\n",
        "G.add_edge('B','C')\n",
        "#draw the network G\n",
        "nx.draw(G)"
      ],
      "execution_count": 29,
      "outputs": [
        {
          "output_type": "stream",
          "text": [
            "/usr/local/lib/python3.6/dist-packages/networkx/drawing/nx_pylab.py:611: MatplotlibDeprecationWarning: isinstance(..., numbers.Number)\n",
            "  if cb.is_numlike(alpha):\n"
          ],
          "name": "stderr"
        }
      ]
    },
    {
      "metadata": {
        "id": "-VkiiwikttgU",
        "colab_type": "code",
        "colab": {}
      },
      "cell_type": "code",
      "source": [
        ""
      ],
      "execution_count": 0,
      "outputs": []
    }
  ]
}